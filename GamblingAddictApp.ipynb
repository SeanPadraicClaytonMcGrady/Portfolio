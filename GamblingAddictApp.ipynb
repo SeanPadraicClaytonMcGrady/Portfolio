{
 "cells": [
  {
   "cell_type": "markdown",
   "metadata": {},
   "source": [
    "# Treating Gambling Addictions\n",
    "\n",
    "Our goal of this project is to participate in the creation of an app that helps lottery addicts. We will assist them by developing the logical core of the app which presents the probabilities of winning to users.\n",
    "\n",
    "Why? We want gambling addicts to realize the harsh truth of improbability in lotteries. We aim to present it to them in a personalized manner for the purpose of reflection. In other words, they will present the truth to themselves via our app.\n",
    "\n",
    "Other engineers will design & develop the app around our logical core. Our core scripts need to answer the following questions:\n",
    "\n",
    "- What is the probability of winning a big prize with a single ticket?\n",
    "\n",
    "- What is the probability of winning said prize with 40 different tickets?\n",
    "\n",
    "- What is the probability of having at least 2, 3, 4, or 5 winning numbers on a single ticket?\n",
    "\n",
    "We will use the historical data coming from the national 6/49 lottery in Canada. The data set, found at https://www.kaggle.com/datascienceai/lottery-dataset, has data from 1982 to 2018."
   ]
  },
  {
   "cell_type": "markdown",
   "metadata": {},
   "source": [
    "# Formulae for Probabilities\n",
    "\n",
    "The lottery does not return drawn numbers back into its set. This means the drawing is done without replacement. We will use factorials and our formula is below."
   ]
  },
  {
   "cell_type": "code",
   "execution_count": 1,
   "metadata": {
    "collapsed": false
   },
   "outputs": [],
   "source": [
    "#The first argument is a simple factorial operation. Example: 3! = 6\n",
    "\n",
    "def factorial(n):\n",
    "    final_product = 1\n",
    "    for i in range(n, 0, -1):\n",
    "        final_product *= i\n",
    "    return final_product\n",
    "\n",
    "#The second argument is nCk = (n!) / (k! * (n - k)!) . This finds the number of combinations of a drawing without replacement.\n",
    "\n",
    "def combinations(n, k):\n",
    "    numerator = factorial(n)\n",
    "    denominator = factorial(k) * factorial(n-k)\n",
    "    return numerator / denominator"
   ]
  },
  {
   "cell_type": "markdown",
   "metadata": {},
   "source": [
    "# What is the probability of winning a big prize with a single ticket in the 6/49 Lottery?\n",
    "\n",
    "The 6/49 lottery takes 6 numbers drawn from a set of 49 numbers ranging 1 to 49. If a player draws the 6 numbers on their ticket which matches the 6 numbers drawn, the player wins a big prize. The numbers must be in exact order.\n",
    "\n",
    "Example: [13, 22, 24, 27, 42, 44] and [13, 22, 24, 27, 42, 44].\n",
    "\n",
    "For the first version of our app, players need to calculate the probability of winning with their chosen set of numbers. Below is a function that calculates the probability of winning with any given ticket.\n",
    "\n",
    "- In the app, the user inputs 6 numbers from 1-49.\n",
    "- The 6 numbers will be a Python list, becoming an input to our function.\n",
    "- The engineering team needs to print the probability in a user-friendly way. Pretend people are not probabilistic and explain the result simply."
   ]
  },
  {
   "cell_type": "code",
   "execution_count": 2,
   "metadata": {
    "collapsed": false
   },
   "outputs": [],
   "source": [
    "def one_ticket_probability(six_numbers):\n",
    "    total_combinations = combinations(49, len(six_numbers))\n",
    "    success_chance = 1 / total_combinations\n",
    "    percentage = success_chance * 100\n",
    "    \n",
    "    print(\"Your chances to win the prize with the numbers {} are {:.7f}%. Another way of saying it: you have a 1 in {:,} chance to win.\"\" \".format(six_numbers,percentage, int(total_combinations)))"
   ]
  },
  {
   "cell_type": "code",
   "execution_count": 3,
   "metadata": {
    "collapsed": false
   },
   "outputs": [
    {
     "name": "stdout",
     "output_type": "stream",
     "text": [
      "Your chances to win the prize with the numbers [1, 2, 3, 4, 5, 6] are 0.0000072%. Another way of saying it: you have a 1 in 13,983,816 chance to win. \n"
     ]
    }
   ],
   "source": [
    "one_ticket_probability([1, 2, 3, 4, 5, 6])"
   ]
  },
  {
   "cell_type": "markdown",
   "metadata": {},
   "source": [
    "Because any given set of numbers by the user will be one of 13,983,816 possibilities, we can hardcode a 1 in success_chance. We could also place a 6 for the h in combinations, but len gets us the same result while referencing the input values."
   ]
  },
  {
   "cell_type": "markdown",
   "metadata": {},
   "source": [
    "# Loading Our Data & Necessary Steps\n",
    "\n",
    "Below we import our data from the aforementioned lottery. We also write necessary functions to extract sets from our lottery data."
   ]
  },
  {
   "cell_type": "code",
   "execution_count": 4,
   "metadata": {
    "collapsed": false,
    "scrolled": true
   },
   "outputs": [
    {
     "data": {
      "text/html": [
       "<div>\n",
       "<style scoped>\n",
       "    .dataframe tbody tr th:only-of-type {\n",
       "        vertical-align: middle;\n",
       "    }\n",
       "\n",
       "    .dataframe tbody tr th {\n",
       "        vertical-align: top;\n",
       "    }\n",
       "\n",
       "    .dataframe thead th {\n",
       "        text-align: right;\n",
       "    }\n",
       "</style>\n",
       "<table border=\"1\" class=\"dataframe\">\n",
       "  <thead>\n",
       "    <tr style=\"text-align: right;\">\n",
       "      <th></th>\n",
       "      <th>PRODUCT</th>\n",
       "      <th>DRAW NUMBER</th>\n",
       "      <th>SEQUENCE NUMBER</th>\n",
       "      <th>DRAW DATE</th>\n",
       "      <th>NUMBER DRAWN 1</th>\n",
       "      <th>NUMBER DRAWN 2</th>\n",
       "      <th>NUMBER DRAWN 3</th>\n",
       "      <th>NUMBER DRAWN 4</th>\n",
       "      <th>NUMBER DRAWN 5</th>\n",
       "      <th>NUMBER DRAWN 6</th>\n",
       "      <th>BONUS NUMBER</th>\n",
       "    </tr>\n",
       "  </thead>\n",
       "  <tbody>\n",
       "    <tr>\n",
       "      <th>0</th>\n",
       "      <td>649</td>\n",
       "      <td>1</td>\n",
       "      <td>0</td>\n",
       "      <td>6/12/1982</td>\n",
       "      <td>3</td>\n",
       "      <td>11</td>\n",
       "      <td>12</td>\n",
       "      <td>14</td>\n",
       "      <td>41</td>\n",
       "      <td>43</td>\n",
       "      <td>13</td>\n",
       "    </tr>\n",
       "    <tr>\n",
       "      <th>1</th>\n",
       "      <td>649</td>\n",
       "      <td>2</td>\n",
       "      <td>0</td>\n",
       "      <td>6/19/1982</td>\n",
       "      <td>8</td>\n",
       "      <td>33</td>\n",
       "      <td>36</td>\n",
       "      <td>37</td>\n",
       "      <td>39</td>\n",
       "      <td>41</td>\n",
       "      <td>9</td>\n",
       "    </tr>\n",
       "    <tr>\n",
       "      <th>2</th>\n",
       "      <td>649</td>\n",
       "      <td>3</td>\n",
       "      <td>0</td>\n",
       "      <td>6/26/1982</td>\n",
       "      <td>1</td>\n",
       "      <td>6</td>\n",
       "      <td>23</td>\n",
       "      <td>24</td>\n",
       "      <td>27</td>\n",
       "      <td>39</td>\n",
       "      <td>34</td>\n",
       "    </tr>\n",
       "  </tbody>\n",
       "</table>\n",
       "</div>"
      ],
      "text/plain": [
       "   PRODUCT  DRAW NUMBER  SEQUENCE NUMBER  DRAW DATE  NUMBER DRAWN 1  \\\n",
       "0      649            1                0  6/12/1982               3   \n",
       "1      649            2                0  6/19/1982               8   \n",
       "2      649            3                0  6/26/1982               1   \n",
       "\n",
       "   NUMBER DRAWN 2  NUMBER DRAWN 3  NUMBER DRAWN 4  NUMBER DRAWN 5  \\\n",
       "0              11              12              14              41   \n",
       "1              33              36              37              39   \n",
       "2               6              23              24              27   \n",
       "\n",
       "   NUMBER DRAWN 6  BONUS NUMBER  \n",
       "0              43            13  \n",
       "1              41             9  \n",
       "2              39            34  "
      ]
     },
     "execution_count": 4,
     "metadata": {},
     "output_type": "execute_result"
    }
   ],
   "source": [
    "import pandas as pd\n",
    "#ld stands for lottery data\n",
    "ld = pd.read_csv(\"649.csv\")\n",
    "ld.head(3)"
   ]
  },
  {
   "cell_type": "code",
   "execution_count": 5,
   "metadata": {
    "collapsed": true
   },
   "outputs": [],
   "source": [
    "#This extracts the full winning combination of numbers.\n",
    "def extract_numbers(row):\n",
    "    winner = set((row[\"NUMBER DRAWN 1\"],\n",
    "                  row[\"NUMBER DRAWN 2\"],\n",
    "                  row[\"NUMBER DRAWN 3\"],\n",
    "                  row[\"NUMBER DRAWN 4\"],\n",
    "                  row[\"NUMBER DRAWN 5\"],\n",
    "                  row[\"NUMBER DRAWN 6\"]))\n",
    "    return winner"
   ]
  },
  {
   "cell_type": "code",
   "execution_count": 6,
   "metadata": {
    "collapsed": false
   },
   "outputs": [
    {
     "data": {
      "text/plain": [
       "0    {3, 41, 11, 12, 43, 14}\n",
       "1    {33, 36, 37, 39, 8, 41}\n",
       "2     {1, 6, 39, 23, 24, 27}\n",
       "3     {3, 9, 10, 43, 13, 20}\n",
       "dtype: object"
      ]
     },
     "execution_count": 6,
     "metadata": {},
     "output_type": "execute_result"
    }
   ],
   "source": [
    "winners = ld.apply(extract_numbers, axis=1)\n",
    "winners.head(4)"
   ]
  },
  {
   "cell_type": "code",
   "execution_count": 7,
   "metadata": {
    "collapsed": false
   },
   "outputs": [
    {
     "name": "stdout",
     "output_type": "stream",
     "text": [
      "The combination {3, 41, 11, 12, 43, 14} has won 1 time(s) before. Your chances of winning with {3, 41, 11, 12, 43, 14} in the next drawing are 0.0000072%, or 1 in 13,983,816.\n"
     ]
    },
    {
     "data": {
      "text/plain": [
       "1"
      ]
     },
     "execution_count": 7,
     "metadata": {},
     "output_type": "execute_result"
    }
   ],
   "source": [
    "#This checks how frequently winning numbers have occurred.\n",
    "def check_historical_occurence(un, winners):\n",
    "    un = set(un)\n",
    "    check = winners == un\n",
    "    \n",
    "    if sum(check) == 0:\n",
    "        print(\"The combination {} has never won before. Your chances of winning with combination {} are 0.0000072%, or 1 in 13,983,816\".format(un, un))\n",
    "        \n",
    "    else:\n",
    "        print(\"The combination {} has won {} time(s) before. Your chances of winning with {} in the next drawing are 0.0000072%, or 1 in 13,983,816.\".format(un, sum(check), un))\n",
    "    return sum(check)\n",
    "\n",
    "check_historical_occurence([3, 41, 11, 12, 43, 14],winners)"
   ]
  },
  {
   "cell_type": "markdown",
   "metadata": {},
   "source": [
    "Regardless of how many times a combination of numbers has won in the past, they aren't excluded from victory in the future. The possibility of victory for each and any combination remains the same, so we don't need to change any calculated results from earlier.\n",
    "\n",
    "This is the fact our app will try to communicate to addicts. We reflect their number back to them, instead of simply giving them the odds, to make the truth more personal."
   ]
  },
  {
   "cell_type": "markdown",
   "metadata": {},
   "source": [
    "# What is the probability of winning said prize with 40 different tickets?\n",
    "\n",
    "Addicts & gamblers will often buy more than one ticket to improve their chances. Below is code to reveal how much some extra tickets will help."
   ]
  },
  {
   "cell_type": "code",
   "execution_count": 8,
   "metadata": {
    "collapsed": false
   },
   "outputs": [
    {
     "name": "stdout",
     "output_type": "stream",
     "text": [
      "If you purchase 600000 ticket(s), you have a 4.2906743% chance of winning the big prize. Or, 1 in 23\n"
     ]
    }
   ],
   "source": [
    "def multi_ticket_probability(n_tickets):\n",
    "    possible_outcomes = combinations(49, 6)\n",
    "    chance = n_tickets / possible_outcomes\n",
    "    probability = chance * 100\n",
    "    print(\"If you purchase {} ticket(s), you have a {:.7f}% chance of winning the big prize. Or, 1 in {}\".format(n_tickets, probability, round(possible_outcomes/n_tickets)))\n",
    "\n",
    "multi_ticket_probability(600000)"
   ]
  },
  {
   "cell_type": "markdown",
   "metadata": {},
   "source": [
    "There are a few reasons we made the code this way, some mechanical and some practical.\n",
    "\n",
    "- This code is scaleable for singular and plural grammar.\n",
    "- This code accurately calculates the chances of winning for any given number of tickets. Addicts will often buy many tickets, so entering how many tickets they can or want to buy will reveal the mathematical futility in their decisions."
   ]
  },
  {
   "cell_type": "markdown",
   "metadata": {},
   "source": [
    "# What is the probability of having at least 2, 3, 4, or 5 winning numbers on a single ticket?\n",
    "\n",
    "There are sometimes small prizes for having a few matching numbers. Users might be interested in knowing the probability of winning small prizes with 2, 3, 4, or 5 numbers.\n",
    "\n",
    "For the inquiry below, users need to input:\n",
    "\n",
    "- 6 different numbers between 1-49.\n",
    "- An integer between 2 & 5 representing the number of winning numbers.\n",
    "\n",
    "Our code accomplishes this below, and we've answered some questions our engineers might have about the math.\n",
    "\n",
    "- Why do we have 43 as the number of outcomes remaining?\n",
    "We have 43 because, for example, we can use nCk with 6 (numbers drawn) and 5 (the number of values we want to match). It produces 44 outcomes for the lottery, but one of them is victorious. We are looking for EXACTLY 5 winning numbers, not AT LEAST 5 winning numbers. Since the 6th value could make the combination 5+ winning numbers, we subtract 1 combination from the set. 44-1 = 43.\n",
    "\n",
    "- Why is there 6 - less_6?\n",
    "We draw 6 numbers, but in this case, care about 2 to 5 of them for minor prizes. We subtract the number in that range from 6 to account for the selection from the drawn numbers. They are part of the 5 numbers we scrutinize, so we keep the 43 in \"outcomes_remaining.\""
   ]
  },
  {
   "cell_type": "code",
   "execution_count": 9,
   "metadata": {
    "collapsed": false
   },
   "outputs": [],
   "source": [
    "def probability_less_6(less_6):\n",
    "    outcomes_ticket = combinations(6, less_6) #This informs us how many X-number combinations there are out of 6 numbers.\n",
    "    outcomes_remaining = combinations(43, 6 - less_6)\n",
    "    successful_outcomes = outcomes_ticket * outcomes_remaining\n",
    "\n",
    "    n_combinations_total = combinations(49, 6)\n",
    "    probability = successful_outcomes / n_combinations_total\n",
    "    probability_percent = probability * 100\n",
    "    combinations_simplified = round(n_combinations_total/successful_outcomes)\n",
    "    print(\"Your ticket has a {} chance of winning with {} numbers. In other words, you have a 1 in {} chance of winning.\".format(probability_percent, less_6, combinations_simplified))\n",
    "    "
   ]
  },
  {
   "cell_type": "code",
   "execution_count": 10,
   "metadata": {
    "collapsed": false
   },
   "outputs": [
    {
     "name": "stdout",
     "output_type": "stream",
     "text": [
      "Your ticket has a 13.237802900152577 chance of winning with 2 numbers. In other words, you have a 1 in 8 chance of winning.\n",
      "--------------------\n",
      "Your ticket has a 1.7650403866870101 chance of winning with 3 numbers. In other words, you have a 1 in 57 chance of winning.\n",
      "--------------------\n",
      "Your ticket has a 0.0968619724401408 chance of winning with 4 numbers. In other words, you have a 1 in 1032 chance of winning.\n",
      "--------------------\n",
      "Your ticket has a 0.0018449899512407771 chance of winning with 5 numbers. In other words, you have a 1 in 54201 chance of winning.\n",
      "--------------------\n"
     ]
    }
   ],
   "source": [
    "for test in [2, 3, 4, 5]:\n",
    "    probability_less_6(test)\n",
    "    print(\"--------------------\") #this segments the answers nicely."
   ]
  },
  {
   "cell_type": "markdown",
   "metadata": {},
   "source": [
    "# Conclusion\n",
    "\n",
    "We set out to develop a logical brain for engineers to design an app around, and we're finished with the first iteration! We developed:\n",
    "\n",
    "- one_ticket_probability()\n",
    "- check_historical_occurrence()\n",
    "- multi_ticket_probability()\n",
    "- probability_less_6()\n",
    "\n",
    "These should allow users to face their gambling addictions with a basic, fundamental level of truth.\n",
    "\n",
    "Future features might include:\n",
    "\n",
    "- Making outputs more fun by adding analogies. Example: \"You are 300 times more likely to get salmonella than win the lottery.\" Note: We don't know if that's true. It's just an example.\n",
    "- Combining one_ticket_probability() and check_historical_occurrence() to show probability & historical occurrence at the same time."
   ]
  }
 ],
 "metadata": {
  "kernelspec": {
   "display_name": "Python 3",
   "language": "python",
   "name": "python3"
  },
  "language_info": {
   "codemirror_mode": {
    "name": "ipython",
    "version": 3
   },
   "file_extension": ".py",
   "mimetype": "text/x-python",
   "name": "python",
   "nbconvert_exporter": "python",
   "pygments_lexer": "ipython3",
   "version": "3.4.3"
  }
 },
 "nbformat": 4,
 "nbformat_minor": 2
}
