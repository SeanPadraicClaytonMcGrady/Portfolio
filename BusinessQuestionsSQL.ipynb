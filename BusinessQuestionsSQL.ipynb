{
 "cells": [
  {
   "cell_type": "markdown",
   "metadata": {},
   "source": [
    "# Should We Buy Singles, or Whole Albums?\n",
    "\n",
    "Our task in this scenario: the Chinook digital music store has signed a deal with a new record label. We've been trusted by Chinook to select the first 3 albums from the record label. We need to discover which genres sell the most tracks, write a summary of our findings, and recommend which 3 artists we'll buy albums from for the store.\n",
    "\n",
    "We have 4 artists to choose from: Regal (Hip-Hop), Red Tone (Punk), Meteor and the Girls (Pop), Slim Jim Bites (Blues).\n",
    "\n",
    "We have other questions to answer as well:\n",
    "\n",
    "- How are our sales agents performing?\n",
    "- To which countries should we focus our marketing?\n",
    "- Should our company buy full albums from record labels, or just single tracks?"
   ]
  },
  {
   "cell_type": "code",
   "execution_count": 1,
   "metadata": {
    "collapsed": false
   },
   "outputs": [
    {
     "data": {
      "text/plain": [
       "'Connected: None@chinook.db'"
      ]
     },
     "execution_count": 1,
     "metadata": {},
     "output_type": "execute_result"
    }
   ],
   "source": [
    "%%capture\n",
    "%load_ext sql\n",
    "%sql sqlite:///chinook.db"
   ]
  },
  {
   "cell_type": "code",
   "execution_count": 2,
   "metadata": {
    "collapsed": false
   },
   "outputs": [
    {
     "name": "stdout",
     "output_type": "stream",
     "text": [
      "Done.\n"
     ]
    },
    {
     "data": {
      "text/html": [
       "<table>\n",
       "    <tr>\n",
       "        <th>name</th>\n",
       "        <th>type</th>\n",
       "    </tr>\n",
       "    <tr>\n",
       "        <td>album</td>\n",
       "        <td>table</td>\n",
       "    </tr>\n",
       "    <tr>\n",
       "        <td>artist</td>\n",
       "        <td>table</td>\n",
       "    </tr>\n",
       "    <tr>\n",
       "        <td>customer</td>\n",
       "        <td>table</td>\n",
       "    </tr>\n",
       "    <tr>\n",
       "        <td>employee</td>\n",
       "        <td>table</td>\n",
       "    </tr>\n",
       "    <tr>\n",
       "        <td>genre</td>\n",
       "        <td>table</td>\n",
       "    </tr>\n",
       "    <tr>\n",
       "        <td>invoice</td>\n",
       "        <td>table</td>\n",
       "    </tr>\n",
       "    <tr>\n",
       "        <td>invoice_line</td>\n",
       "        <td>table</td>\n",
       "    </tr>\n",
       "    <tr>\n",
       "        <td>media_type</td>\n",
       "        <td>table</td>\n",
       "    </tr>\n",
       "    <tr>\n",
       "        <td>playlist</td>\n",
       "        <td>table</td>\n",
       "    </tr>\n",
       "    <tr>\n",
       "        <td>playlist_track</td>\n",
       "        <td>table</td>\n",
       "    </tr>\n",
       "    <tr>\n",
       "        <td>track</td>\n",
       "        <td>table</td>\n",
       "    </tr>\n",
       "</table>"
      ],
      "text/plain": [
       "[('album', 'table'),\n",
       " ('artist', 'table'),\n",
       " ('customer', 'table'),\n",
       " ('employee', 'table'),\n",
       " ('genre', 'table'),\n",
       " ('invoice', 'table'),\n",
       " ('invoice_line', 'table'),\n",
       " ('media_type', 'table'),\n",
       " ('playlist', 'table'),\n",
       " ('playlist_track', 'table'),\n",
       " ('track', 'table')]"
      ]
     },
     "execution_count": 2,
     "metadata": {},
     "output_type": "execute_result"
    }
   ],
   "source": [
    "\n",
    "%%sql\n",
    "SELECT\n",
    "    name,\n",
    "    type\n",
    "FROM sqlite_master\n",
    "WHERE type IN (\"table\",\"view\");"
   ]
  },
  {
   "cell_type": "markdown",
   "metadata": {},
   "source": [
    "Now that we've surveyed the tables, we're going to filter for the most popular genres in the USA. Below is code and a table for this purpose.\n",
    "\n",
    "For reference: the total number of songs sold in the USA from Chinook is 1051. We will use this number in our code below."
   ]
  },
  {
   "cell_type": "code",
   "execution_count": 3,
   "metadata": {
    "collapsed": false
   },
   "outputs": [
    {
     "name": "stdout",
     "output_type": "stream",
     "text": [
      "Done.\n"
     ]
    },
    {
     "data": {
      "text/html": [
       "<table>\n",
       "    <tr>\n",
       "        <th>genre</th>\n",
       "        <th>songs_bought_usa</th>\n",
       "        <th>market_percentage</th>\n",
       "    </tr>\n",
       "    <tr>\n",
       "        <td>Rock</td>\n",
       "        <td>561</td>\n",
       "        <td>53.38</td>\n",
       "    </tr>\n",
       "    <tr>\n",
       "        <td>Alternative &amp; Punk</td>\n",
       "        <td>130</td>\n",
       "        <td>12.37</td>\n",
       "    </tr>\n",
       "    <tr>\n",
       "        <td>Metal</td>\n",
       "        <td>124</td>\n",
       "        <td>11.8</td>\n",
       "    </tr>\n",
       "    <tr>\n",
       "        <td>R&amp;B/Soul</td>\n",
       "        <td>53</td>\n",
       "        <td>5.04</td>\n",
       "    </tr>\n",
       "    <tr>\n",
       "        <td>Blues</td>\n",
       "        <td>36</td>\n",
       "        <td>3.43</td>\n",
       "    </tr>\n",
       "    <tr>\n",
       "        <td>Alternative</td>\n",
       "        <td>35</td>\n",
       "        <td>3.33</td>\n",
       "    </tr>\n",
       "    <tr>\n",
       "        <td>Latin</td>\n",
       "        <td>22</td>\n",
       "        <td>2.09</td>\n",
       "    </tr>\n",
       "    <tr>\n",
       "        <td>Pop</td>\n",
       "        <td>22</td>\n",
       "        <td>2.09</td>\n",
       "    </tr>\n",
       "    <tr>\n",
       "        <td>Hip Hop/Rap</td>\n",
       "        <td>20</td>\n",
       "        <td>1.9</td>\n",
       "    </tr>\n",
       "    <tr>\n",
       "        <td>Jazz</td>\n",
       "        <td>14</td>\n",
       "        <td>1.33</td>\n",
       "    </tr>\n",
       "    <tr>\n",
       "        <td>Easy Listening</td>\n",
       "        <td>13</td>\n",
       "        <td>1.24</td>\n",
       "    </tr>\n",
       "    <tr>\n",
       "        <td>Reggae</td>\n",
       "        <td>6</td>\n",
       "        <td>0.57</td>\n",
       "    </tr>\n",
       "    <tr>\n",
       "        <td>Electronica/Dance</td>\n",
       "        <td>5</td>\n",
       "        <td>0.48</td>\n",
       "    </tr>\n",
       "    <tr>\n",
       "        <td>Classical</td>\n",
       "        <td>4</td>\n",
       "        <td>0.38</td>\n",
       "    </tr>\n",
       "    <tr>\n",
       "        <td>Heavy Metal</td>\n",
       "        <td>3</td>\n",
       "        <td>0.29</td>\n",
       "    </tr>\n",
       "    <tr>\n",
       "        <td>Soundtrack</td>\n",
       "        <td>2</td>\n",
       "        <td>0.19</td>\n",
       "    </tr>\n",
       "    <tr>\n",
       "        <td>TV Shows</td>\n",
       "        <td>1</td>\n",
       "        <td>0.1</td>\n",
       "    </tr>\n",
       "</table>"
      ],
      "text/plain": [
       "[('Rock', 561, 53.38),\n",
       " ('Alternative & Punk', 130, 12.37),\n",
       " ('Metal', 124, 11.8),\n",
       " ('R&B/Soul', 53, 5.04),\n",
       " ('Blues', 36, 3.43),\n",
       " ('Alternative', 35, 3.33),\n",
       " ('Latin', 22, 2.09),\n",
       " ('Pop', 22, 2.09),\n",
       " ('Hip Hop/Rap', 20, 1.9),\n",
       " ('Jazz', 14, 1.33),\n",
       " ('Easy Listening', 13, 1.24),\n",
       " ('Reggae', 6, 0.57),\n",
       " ('Electronica/Dance', 5, 0.48),\n",
       " ('Classical', 4, 0.38),\n",
       " ('Heavy Metal', 3, 0.29),\n",
       " ('Soundtrack', 2, 0.19),\n",
       " ('TV Shows', 1, 0.1)]"
      ]
     },
     "execution_count": 3,
     "metadata": {},
     "output_type": "execute_result"
    }
   ],
   "source": [
    "%%sql\n",
    "\n",
    "WITH usa AS\n",
    "    (\n",
    "        SELECT *\n",
    "        FROM invoice\n",
    "        WHERE billing_country = \"USA\"\n",
    "    ),\n",
    "    songs_bought_usa AS\n",
    "    (\n",
    "        SELECT SUM(quantity) songs_bought_usa, il.track_id\n",
    "        FROM invoice_line il\n",
    "        INNER JOIN usa ON usa.invoice_id = il.invoice_id\n",
    "        GROUP BY 2\n",
    "    ),\n",
    "    track_usa AS\n",
    "    (\n",
    "        SELECT t.genre_id, t.track_id, sbu.songs_bought_usa\n",
    "        FROM track t\n",
    "        INNER JOIN songs_bought_usa sbu ON sbu.track_id = t.track_id \n",
    "    )\n",
    "    \n",
    "SELECT g.name as genre, SUM(tu.songs_bought_usa) songs_bought_usa, ROUND((SUM(tu.songs_bought_usa) / CAST(1051 AS FLOAT)) * 100, 2) AS market_percentage\n",
    "FROM genre g\n",
    "INNER JOIN track_usa tu ON tu.genre_id = g.genre_id\n",
    "GROUP BY 1\n",
    "ORDER BY 2 DESC;\n"
   ]
  },
  {
   "cell_type": "markdown",
   "metadata": {},
   "source": [
    "For our relevant artists' genres, Punk (12.37%), Blues (3.43%), and Pop (2.09%) are the largest genres. Hip-hop is just below Pop at 1.9%. \n",
    "\n",
    "Punk should definitely be included in the first line-up as it has a large market share by a single order of magnitude. Blues, Pop, and Hip-Hip are very close in terms of market share. At this point, we should think of Chinook's goals, and the record label's.\n",
    "\n",
    "Does Chinook want to develop a niche for specifc genres, or does it want to involve everything on its platform? Amazon, iTunes, Spotify-- it's difficult to beat the breadth of these digital distributors. However, if Chinook wants to focus on a niche and try to grow that way, serving an underserved area in the market, it would help us choose. If we play the game \"Which of these is not like the other?\", Hip-Hop has less in common with the other genres. It also has a smaller market share.\n",
    "\n",
    "It seems best to leave Hip-Hop out with this approach.\n",
    "\n",
    "However, if we're looking for the strength of charisma in our line-up of artists, the market share of Pop, Blues, and Hip-Hop are close enough to further judge by artist quality. Is Regal the next Kanye West? Probably not, but it's worth a listen and thought."
   ]
  },
  {
   "cell_type": "markdown",
   "metadata": {
    "collapsed": true
   },
   "source": [
    "# How Are Our Sales Agents?\n",
    "\n",
    "We'll find a sales support agent next. We're going to look for the total dollar amount of sales per sales agent.\n",
    "\n",
    "Note: total agent sales are 4709 USD"
   ]
  },
  {
   "cell_type": "code",
   "execution_count": 4,
   "metadata": {
    "collapsed": false
   },
   "outputs": [
    {
     "name": "stdout",
     "output_type": "stream",
     "text": [
      "Done.\n"
     ]
    },
    {
     "data": {
      "text/html": [
       "<table>\n",
       "    <tr>\n",
       "        <th>agent_name</th>\n",
       "        <th>total_sales</th>\n",
       "        <th>hire_date</th>\n",
       "        <th>percentage_of_total_sales</th>\n",
       "    </tr>\n",
       "    <tr>\n",
       "        <td>Jane Peacock</td>\n",
       "        <td>1731.51 USD</td>\n",
       "        <td>2017-04-01 00:00:00</td>\n",
       "        <td>0.368</td>\n",
       "    </tr>\n",
       "    <tr>\n",
       "        <td>Margaret Park</td>\n",
       "        <td>1584.0 USD</td>\n",
       "        <td>2017-05-03 00:00:00</td>\n",
       "        <td>0.336</td>\n",
       "    </tr>\n",
       "    <tr>\n",
       "        <td>Steve Johnson</td>\n",
       "        <td>1393.92 USD</td>\n",
       "        <td>2017-10-17 00:00:00</td>\n",
       "        <td>0.296</td>\n",
       "    </tr>\n",
       "</table>"
      ],
      "text/plain": [
       "[('Jane Peacock', '1731.51 USD', '2017-04-01 00:00:00', 0.368),\n",
       " ('Margaret Park', '1584.0 USD', '2017-05-03 00:00:00', 0.336),\n",
       " ('Steve Johnson', '1393.92 USD', '2017-10-17 00:00:00', 0.296)]"
      ]
     },
     "execution_count": 4,
     "metadata": {},
     "output_type": "execute_result"
    }
   ],
   "source": [
    "%%sql\n",
    "\n",
    "WITH agent AS\n",
    "\n",
    "    (\n",
    "        SELECT first_name || \" \" || last_name AS agent_name, employee_id, hire_date\n",
    "        FROM employee\n",
    "        WHERE title = \"Sales Support Agent\"\n",
    "    ),\n",
    "    agent_customer AS\n",
    "    (\n",
    "        SELECT a.*, customer_id\n",
    "        FROM customer c\n",
    "        INNER JOIN agent a ON a.employee_id = c.support_rep_id\n",
    "    ),\n",
    "    agent_sales AS\n",
    "    (\n",
    "        SELECT ac.agent_name, SUM(i.total) || \" USD\" AS total_sales, ac.hire_date\n",
    "        FROM agent_customer ac\n",
    "        INNER JOIN invoice i ON i.customer_id = ac.customer_id\n",
    "        GROUP BY ac.agent_name\n",
    "    )\n",
    "    \n",
    "SELECT ags.*, ROUND(total_sales / 4709, 3) AS percentage_of_total_sales\n",
    "FROM agent_sales ags\n",
    "GROUP BY ags.agent_name;"
   ]
  },
  {
   "cell_type": "markdown",
   "metadata": {},
   "source": [
    "Each sales agent is around 1/3rd of the total sales with Jane Peacock being the leader. This is likely due to her being hired earlier, having more time to develop her salesmanship.\n",
    "\n",
    "Overall, our sales agents are performing very closely with each other."
   ]
  },
  {
   "cell_type": "markdown",
   "metadata": {},
   "source": [
    "# Analyzing Sales Data By Country"
   ]
  },
  {
   "cell_type": "code",
   "execution_count": 5,
   "metadata": {
    "collapsed": false,
    "scrolled": true
   },
   "outputs": [
    {
     "name": "stdout",
     "output_type": "stream",
     "text": [
      "Done.\n"
     ]
    },
    {
     "data": {
      "text/html": [
       "<table>\n",
       "    <tr>\n",
       "        <th>country</th>\n",
       "        <th>customers</th>\n",
       "        <th>total_sales</th>\n",
       "        <th>average_sale_per_customer</th>\n",
       "        <th>average_order</th>\n",
       "    </tr>\n",
       "    <tr>\n",
       "        <td>Other</td>\n",
       "        <td>15</td>\n",
       "        <td>1095.0</td>\n",
       "        <td>73.0</td>\n",
       "        <td>7.45</td>\n",
       "    </tr>\n",
       "    <tr>\n",
       "        <td>USA</td>\n",
       "        <td>13</td>\n",
       "        <td>1040.0</td>\n",
       "        <td>80.04</td>\n",
       "        <td>7.94</td>\n",
       "    </tr>\n",
       "    <tr>\n",
       "        <td>Canada</td>\n",
       "        <td>8</td>\n",
       "        <td>536.0</td>\n",
       "        <td>66.95</td>\n",
       "        <td>7.05</td>\n",
       "    </tr>\n",
       "    <tr>\n",
       "        <td>Brazil</td>\n",
       "        <td>5</td>\n",
       "        <td>428.0</td>\n",
       "        <td>85.54</td>\n",
       "        <td>7.01</td>\n",
       "    </tr>\n",
       "    <tr>\n",
       "        <td>France</td>\n",
       "        <td>5</td>\n",
       "        <td>389.0</td>\n",
       "        <td>77.81</td>\n",
       "        <td>7.78</td>\n",
       "    </tr>\n",
       "    <tr>\n",
       "        <td>Germany</td>\n",
       "        <td>4</td>\n",
       "        <td>335.0</td>\n",
       "        <td>83.66</td>\n",
       "        <td>8.16</td>\n",
       "    </tr>\n",
       "    <tr>\n",
       "        <td>Czech Republic</td>\n",
       "        <td>2</td>\n",
       "        <td>273.0</td>\n",
       "        <td>136.62</td>\n",
       "        <td>9.11</td>\n",
       "    </tr>\n",
       "    <tr>\n",
       "        <td>United Kingdom</td>\n",
       "        <td>3</td>\n",
       "        <td>246.0</td>\n",
       "        <td>81.84</td>\n",
       "        <td>8.77</td>\n",
       "    </tr>\n",
       "    <tr>\n",
       "        <td>Portugal</td>\n",
       "        <td>2</td>\n",
       "        <td>185.0</td>\n",
       "        <td>92.57</td>\n",
       "        <td>6.38</td>\n",
       "    </tr>\n",
       "    <tr>\n",
       "        <td>India</td>\n",
       "        <td>2</td>\n",
       "        <td>183.0</td>\n",
       "        <td>91.58</td>\n",
       "        <td>8.72</td>\n",
       "    </tr>\n",
       "</table>"
      ],
      "text/plain": [
       "[('Other', 15, 1095.0, 73.0, 7.45),\n",
       " ('USA', 13, 1040.0, 80.04, 7.94),\n",
       " ('Canada', 8, 536.0, 66.95, 7.05),\n",
       " ('Brazil', 5, 428.0, 85.54, 7.01),\n",
       " ('France', 5, 389.0, 77.81, 7.78),\n",
       " ('Germany', 4, 335.0, 83.66, 8.16),\n",
       " ('Czech Republic', 2, 273.0, 136.62, 9.11),\n",
       " ('United Kingdom', 3, 246.0, 81.84, 8.77),\n",
       " ('Portugal', 2, 185.0, 92.57, 6.38),\n",
       " ('India', 2, 183.0, 91.58, 8.72)]"
      ]
     },
     "execution_count": 5,
     "metadata": {},
     "output_type": "execute_result"
    }
   ],
   "source": [
    "%%sql\n",
    "\n",
    "WITH country_or_other AS\n",
    "    (\n",
    "        SELECT \n",
    "            CASE\n",
    "                WHEN (\n",
    "                    SELECT COUNT(*)\n",
    "                    FROM customer\n",
    "                    WHERE country = c.country\n",
    "                    ) = 1 THEN \"Other\"\n",
    "                ELSE c.country\n",
    "                END AS country,\n",
    "                c.customer_id,\n",
    "                il.*\n",
    "        FROM invoice_line il\n",
    "        INNER JOIN invoice i ON i.invoice_id = il.invoice_id\n",
    "        INNER JOIN customer c ON c.customer_id = i.customer_id\n",
    "    )\n",
    "    \n",
    "SELECT country,\n",
    "        COUNT(DISTINCT(customer_id)) AS customers,\n",
    "        ROUND(SUM(unit_price)) AS total_sales,\n",
    "        ROUND(SUM(unit_price) / COUNT(DISTINCT(customer_id)),2) AS average_sale_per_customer,\n",
    "        ROUND(SUM(unit_price) / COUNT(DISTINCT(invoice_id)),2) AS average_order\n",
    "FROM country_or_other\n",
    "GROUP BY 1\n",
    "ORDER BY 3 DESC;"
   ]
  },
  {
   "cell_type": "markdown",
   "metadata": {
    "collapsed": true
   },
   "source": [
    "Importante Note: The \"Other\" category has 15 customers, but each customer in this category belongs to a unique & different country. In terms of influencing marketing campaigns, this category should possess no investment since it is indistinct enough.\n",
    "\n",
    "In fact, we should say this about the whole data set. It is very, very small. If we were to recommend a course of action based on its data, we would recommend using the average_sale_per_customer column.\n",
    "\n",
    "- Czech Republic is especially high in average sales per customer, as are Portugal and India. Czech Republic should have first priority in marketing campaigns."
   ]
  },
  {
   "cell_type": "markdown",
   "metadata": {},
   "source": [
    "# Should Chinook buy full albums from record labels, or just single tracks?\n",
    "\n"
   ]
  },
  {
   "cell_type": "code",
   "execution_count": 6,
   "metadata": {
    "collapsed": false
   },
   "outputs": [
    {
     "name": "stdout",
     "output_type": "stream",
     "text": [
      "Done.\n"
     ]
    },
    {
     "data": {
      "text/html": [
       "<table>\n",
       "    <tr>\n",
       "        <th>purchase_type</th>\n",
       "        <th>number_of_invoices</th>\n",
       "        <th>percentage</th>\n",
       "    </tr>\n",
       "    <tr>\n",
       "        <td>Albums</td>\n",
       "        <td>114</td>\n",
       "        <td>0.19</td>\n",
       "    </tr>\n",
       "    <tr>\n",
       "        <td>Singles</td>\n",
       "        <td>500</td>\n",
       "        <td>0.81</td>\n",
       "    </tr>\n",
       "</table>"
      ],
      "text/plain": [
       "[('Albums', 114, 0.19), ('Singles', 500, 0.81)]"
      ]
     },
     "execution_count": 6,
     "metadata": {},
     "output_type": "execute_result"
    }
   ],
   "source": [
    "%%sql\n",
    "\n",
    "WITH invoice_albums AS\n",
    "    (\n",
    "        SELECT\n",
    "        i.invoice_id,\n",
    "        COUNT(t.track_id) purchased_track_count,\n",
    "        COUNT(DISTINCT t.album_id) album_count,\n",
    "        t.album_id album_id\n",
    "        FROM invoice i\n",
    "        INNER JOIN invoice_line il ON il.invoice_id = i.invoice_id\n",
    "        INNER JOIN track t ON t.track_id = il.track_id\n",
    "        GROUP BY 1\n",
    "    ),\n",
    "    album_track_count AS\n",
    "    (\n",
    "        SELECT\n",
    "        t.album_id album_id,\n",
    "        COUNT(t.track_id) album_track_count\n",
    "        FROM track t\n",
    "        GROUP BY 1\n",
    "    )\n",
    "    \n",
    "\n",
    "SELECT  \n",
    "    CASE\n",
    "        WHEN ia.album_count = 1\n",
    "        AND ia.purchased_track_count = atc.album_track_count\n",
    "        THEN \"Albums\"\n",
    "        ELSE \"Singles\"\n",
    "        END AS purchase_type,\n",
    "    COUNT(ia.invoice_id) number_of_invoices,\n",
    "    ROUND(CAST(COUNT(ia.invoice_id) AS FLOAT) / \n",
    "          (\n",
    "              SELECT COUNT(*)\n",
    "              FROM invoice), 2) percentage\n",
    "FROM invoice_albums ia\n",
    "INNER JOIN album_track_count atc ON atc.album_id = ia.album_id\n",
    "GROUP BY purchase_type;"
   ]
  },
  {
   "cell_type": "markdown",
   "metadata": {
    "collapsed": true
   },
   "source": [
    "Whole albums make 19% of our sales. They should not be changed at all. There is no need to risk losing almost 1/5th of our income.\n",
    "\n",
    "We should continue to buy full albums from record companies. Customer selection & utility is too important to compromise."
   ]
  }
 ],
 "metadata": {
  "kernelspec": {
   "display_name": "Python 3",
   "language": "python",
   "name": "python3"
  },
  "language_info": {
   "codemirror_mode": {
    "name": "ipython",
    "version": 3
   },
   "file_extension": ".py",
   "mimetype": "text/x-python",
   "name": "python",
   "nbconvert_exporter": "python",
   "pygments_lexer": "ipython3",
   "version": "3.4.3"
  }
 },
 "nbformat": 4,
 "nbformat_minor": 2
}
